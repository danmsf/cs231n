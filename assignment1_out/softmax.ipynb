{
 "cells": [
  {
   "cell_type": "markdown",
   "metadata": {
    "toc": "true"
   },
   "source": [
    "# Table of Contents\n",
    " <p><div class=\"lev1 toc-item\"><a href=\"#Softmax-exercise\" data-toc-modified-id=\"Softmax-exercise-1\"><span class=\"toc-item-num\">1&nbsp;&nbsp;</span>Softmax exercise</a></div><div class=\"lev2 toc-item\"><a href=\"#Softmax-Classifier\" data-toc-modified-id=\"Softmax-Classifier-11\"><span class=\"toc-item-num\">1.1&nbsp;&nbsp;</span>Softmax Classifier</a></div><div class=\"lev2 toc-item\"><a href=\"#Inline-Question-1:\" data-toc-modified-id=\"Inline-Question-1:-12\"><span class=\"toc-item-num\">1.2&nbsp;&nbsp;</span>Inline Question 1:</a></div>"
   ]
  },
  {
   "cell_type": "markdown",
   "metadata": {},
   "source": [
    "# Softmax exercise\n",
    "\n",
    "*Complete and hand in this completed worksheet (including its outputs and any supporting code outside of the worksheet) with your assignment submission. For more details see the [assignments page](http://vision.stanford.edu/teaching/cs231n/assignments.html) on the course website.*\n",
    "\n",
    "This exercise is analogous to the SVM exercise. You will:\n",
    "\n",
    "- implement a fully-vectorized **loss function** for the Softmax classifier\n",
    "- implement the fully-vectorized expression for its **analytic gradient**\n",
    "- **check your implementation** with numerical gradient\n",
    "- use a validation set to **tune the learning rate and regularization** strength\n",
    "- **optimize** the loss function with **SGD**\n",
    "- **visualize** the final learned weights\n"
   ]
  },
  {
   "cell_type": "code",
   "execution_count": 1,
   "metadata": {
    "collapsed": false
   },
   "outputs": [],
   "source": [
    "import random\n",
    "import numpy as np\n",
    "from cs231n.data_utils import load_CIFAR10\n",
    "import matplotlib.pyplot as plt\n",
    "\n",
    "from __future__ import print_function\n",
    "\n",
    "%matplotlib inline\n",
    "plt.rcParams['figure.figsize'] = (10.0, 8.0) # set default size of plots\n",
    "plt.rcParams['image.interpolation'] = 'nearest'\n",
    "plt.rcParams['image.cmap'] = 'gray'\n",
    "\n",
    "# for auto-reloading extenrnal modules\n",
    "# see http://stackoverflow.com/questions/1907993/autoreload-of-modules-in-ipython\n",
    "%load_ext autoreload\n",
    "%autoreload 2"
   ]
  },
  {
   "cell_type": "code",
   "execution_count": 2,
   "metadata": {
    "collapsed": false
   },
   "outputs": [
    {
     "name": "stdout",
     "output_type": "stream",
     "text": [
      "Train data shape:  (49000L, 3073L)\n",
      "Train labels shape:  (49000L,)\n",
      "Validation data shape:  (1000L, 3073L)\n",
      "Validation labels shape:  (1000L,)\n",
      "Test data shape:  (1000L, 3073L)\n",
      "Test labels shape:  (1000L,)\n",
      "dev data shape:  (500L, 3073L)\n",
      "dev labels shape:  (500L,)\n"
     ]
    }
   ],
   "source": [
    "def get_CIFAR10_data(num_training=49000, num_validation=1000, num_test=1000, num_dev=500):\n",
    "    \"\"\"\n",
    "    Load the CIFAR-10 dataset from disk and perform preprocessing to prepare\n",
    "    it for the linear classifier. These are the same steps as we used for the\n",
    "    SVM, but condensed to a single function.  \n",
    "    \"\"\"\n",
    "    # Load the raw CIFAR-10 data\n",
    "    cifar10_dir = 'cs231n/datasets/cifar-10-batches-py'\n",
    "    X_train, y_train, X_test, y_test = load_CIFAR10(cifar10_dir)\n",
    "    \n",
    "    # subsample the data\n",
    "    mask = list(range(num_training, num_training + num_validation))\n",
    "    X_val = X_train[mask]\n",
    "    y_val = y_train[mask]\n",
    "    mask = list(range(num_training))\n",
    "    X_train = X_train[mask]\n",
    "    y_train = y_train[mask]\n",
    "    mask = list(range(num_test))\n",
    "    X_test = X_test[mask]\n",
    "    y_test = y_test[mask]\n",
    "    mask = np.random.choice(num_training, num_dev, replace=False)\n",
    "    X_dev = X_train[mask]\n",
    "    y_dev = y_train[mask]\n",
    "    \n",
    "    # Preprocessing: reshape the image data into rows\n",
    "    X_train = np.reshape(X_train, (X_train.shape[0], -1))\n",
    "    X_val = np.reshape(X_val, (X_val.shape[0], -1))\n",
    "    X_test = np.reshape(X_test, (X_test.shape[0], -1))\n",
    "    X_dev = np.reshape(X_dev, (X_dev.shape[0], -1))\n",
    "    \n",
    "    # Normalize the data: subtract the mean image\n",
    "    mean_image = np.mean(X_train, axis = 0)\n",
    "    X_train -= mean_image\n",
    "    X_val -= mean_image\n",
    "    X_test -= mean_image\n",
    "    X_dev -= mean_image\n",
    "    \n",
    "    # add bias dimension and transform into columns\n",
    "    X_train = np.hstack([X_train, np.ones((X_train.shape[0], 1))])\n",
    "    X_val = np.hstack([X_val, np.ones((X_val.shape[0], 1))])\n",
    "    X_test = np.hstack([X_test, np.ones((X_test.shape[0], 1))])\n",
    "    X_dev = np.hstack([X_dev, np.ones((X_dev.shape[0], 1))])\n",
    "    \n",
    "    return X_train, y_train, X_val, y_val, X_test, y_test, X_dev, y_dev\n",
    "\n",
    "\n",
    "# Invoke the above function to get our data.\n",
    "X_train, y_train, X_val, y_val, X_test, y_test, X_dev, y_dev = get_CIFAR10_data()\n",
    "print('Train data shape: ', X_train.shape)\n",
    "print('Train labels shape: ', y_train.shape)\n",
    "print('Validation data shape: ', X_val.shape)\n",
    "print('Validation labels shape: ', y_val.shape)\n",
    "print('Test data shape: ', X_test.shape)\n",
    "print('Test labels shape: ', y_test.shape)\n",
    "print('dev data shape: ', X_dev.shape)\n",
    "print('dev labels shape: ', y_dev.shape)"
   ]
  },
  {
   "cell_type": "markdown",
   "metadata": {},
   "source": [
    "## Softmax Classifier\n",
    "\n",
    "Your code for this section will all be written inside **cs231n/classifiers/softmax.py**. \n"
   ]
  },
  {
   "cell_type": "code",
   "execution_count": 12,
   "metadata": {
    "collapsed": false
   },
   "outputs": [
    {
     "name": "stdout",
     "output_type": "stream",
     "text": [
      "loss: 2.327288\n",
      "sanity check: 2.302585\n"
     ]
    }
   ],
   "source": [
    "# First implement the naive softmax loss function with nested loops.\n",
    "# Open the file cs231n/classifiers/softmax.py and implement the\n",
    "# softmax_loss_naive function.\n",
    "\n",
    "from cs231n.classifiers.softmax import softmax_loss_naive\n",
    "import time\n",
    "\n",
    "# Generate a random softmax weight matrix and use it to compute the loss.\n",
    "W = np.random.randn(3073, 10) * 0.0001\n",
    "loss, grad = softmax_loss_naive(W, X_dev, y_dev, 0.0)\n",
    "\n",
    "# As a rough sanity check, our loss should be something close to -log(0.1).\n",
    "print('loss: %f' % loss)\n",
    "print('sanity check: %f' % (-np.log(0.1)))"
   ]
  },
  {
   "cell_type": "markdown",
   "metadata": {},
   "source": [
    "## Inline Question 1:\n",
    "Why do we expect our loss to be close to -log(0.1)? Explain briefly.**\n",
    "\n",
    "**Your answer:** Because softmax can be seen as $p(y|x)$ there are 10 classes and the random probability is 1:10.\n"
   ]
  },
  {
   "cell_type": "code",
   "execution_count": 10,
   "metadata": {
    "collapsed": false
   },
   "outputs": [
    {
     "name": "stdout",
     "output_type": "stream",
     "text": [
      "numerical: -2.101275 analytic: -2.101276, relative error: 3.748176e-08\n",
      "numerical: -1.228198 analytic: -1.228198, relative error: 4.037207e-08\n",
      "numerical: 0.267969 analytic: 0.267969, relative error: 2.730971e-08\n",
      "numerical: -0.674349 analytic: -0.674349, relative error: 3.767886e-08\n",
      "numerical: 1.564551 analytic: 1.564551, relative error: 3.753580e-08\n",
      "numerical: 1.283980 analytic: 1.283980, relative error: 1.053941e-08\n",
      "numerical: -3.670281 analytic: -3.670281, relative error: 2.261679e-08\n",
      "numerical: 1.172705 analytic: 1.172705, relative error: 6.053440e-08\n",
      "numerical: 2.990430 analytic: 2.990429, relative error: 1.546051e-08\n",
      "numerical: 2.929941 analytic: 2.929941, relative error: 1.336171e-08\n",
      "numerical: 0.333384 analytic: 0.333384, relative error: 1.366564e-09\n",
      "numerical: 0.855520 analytic: 0.855520, relative error: 1.098697e-07\n",
      "numerical: 2.193422 analytic: 2.193422, relative error: 4.845454e-08\n",
      "numerical: -3.273660 analytic: -3.273660, relative error: 9.875578e-09\n",
      "numerical: -0.243458 analytic: -0.243458, relative error: 2.527704e-07\n",
      "numerical: -1.602414 analytic: -1.602414, relative error: 2.832549e-09\n",
      "numerical: 2.183650 analytic: 2.183650, relative error: 2.704503e-09\n",
      "numerical: 1.951181 analytic: 1.951181, relative error: 4.401435e-09\n",
      "numerical: -1.608700 analytic: -1.608700, relative error: 2.008745e-08\n",
      "numerical: 1.310030 analytic: 1.310030, relative error: 1.732997e-08\n"
     ]
    }
   ],
   "source": [
    "# Complete the implementation of softmax_loss_naive and implement a (naive)\n",
    "# version of the gradient that uses nested loops.\n",
    "loss, grad = softmax_loss_naive(W, X_dev, y_dev, 0.0)\n",
    "\n",
    "# As we did for the SVM, use numeric gradient checking as a debugging tool.\n",
    "# The numeric gradient should be close to the analytic gradient.\n",
    "from cs231n.gradient_check import grad_check_sparse\n",
    "f = lambda w: softmax_loss_naive(w, X_dev, y_dev, 0.0)[0]\n",
    "grad_numerical = grad_check_sparse(f, W, grad, 10)\n",
    "\n",
    "# similar to SVM case, do another gradient check with regularization\n",
    "loss, grad = softmax_loss_naive(W, X_dev, y_dev, 5e1)\n",
    "f = lambda w: softmax_loss_naive(w, X_dev, y_dev, 5e1)[0]\n",
    "grad_numerical = grad_check_sparse(f, W, grad, 10)"
   ]
  },
  {
   "cell_type": "code",
   "execution_count": 27,
   "metadata": {
    "collapsed": false
   },
   "outputs": [
    {
     "data": {
      "text/plain": [
       "array([3, 4])"
      ]
     },
     "execution_count": 27,
     "metadata": {},
     "output_type": "execute_result"
    }
   ],
   "source": [
    "h = np.array([1,2,3,4])\n",
    "h = h.reshape(2,2)\n",
    "np.max(h, axis=0)"
   ]
  },
  {
   "cell_type": "code",
   "execution_count": 46,
   "metadata": {
    "collapsed": false
   },
   "outputs": [
    {
     "name": "stdout",
     "output_type": "stream",
     "text": [
      "naive loss: 2.327288e+00 computed in 0.751000s\n",
      "vectorized loss: 2.327288e+00 computed in 0.031000s\n",
      "Loss difference: 0.000000\n",
      "Gradient difference: 0.000000\n"
     ]
    }
   ],
   "source": [
    "# Now that we have a naive implementation of the softmax loss function and its gradient,\n",
    "# implement a vectorized version in softmax_loss_vectorized.\n",
    "# The two versions should compute the same results, but the vectorized version should be\n",
    "# much faster.\n",
    "tic = time.time()\n",
    "loss_naive, grad_naive = softmax_loss_naive(W, X_dev, y_dev, 0.000005)\n",
    "toc = time.time()\n",
    "print('naive loss: %e computed in %fs' % (loss_naive, toc - tic))\n",
    "\n",
    "from cs231n.classifiers.softmax import softmax_loss_vectorized\n",
    "tic = time.time()\n",
    "loss_vectorized, grad_vectorized = softmax_loss_vectorized(W, X_dev, y_dev, 0.000005)\n",
    "toc = time.time()\n",
    "print('vectorized loss: %e computed in %fs' % (loss_vectorized, toc - tic))\n",
    "\n",
    "# As we did for the SVM, we use the Frobenius norm to compare the two versions\n",
    "# of the gradient.\n",
    "grad_difference = np.linalg.norm(grad_naive - grad_vectorized, ord='fro')\n",
    "print('Loss difference: %f' % np.abs(loss_naive - loss_vectorized))\n",
    "print('Gradient difference: %f' % grad_difference)"
   ]
  },
  {
   "cell_type": "code",
   "execution_count": 57,
   "metadata": {
    "collapsed": false
   },
   "outputs": [
    {
     "name": "stdout",
     "output_type": "stream",
     "text": [
      "iteration 0 / 1500: loss 386.209100\n",
      "iteration 100 / 1500: loss 32.487190\n",
      "iteration 200 / 1500: loss 4.546922\n",
      "iteration 300 / 1500: loss 2.241230\n",
      "iteration 400 / 1500: loss 2.028218\n",
      "iteration 500 / 1500: loss 2.026722\n",
      "iteration 600 / 1500: loss 2.085486\n",
      "iteration 700 / 1500: loss 2.083457\n",
      "iteration 800 / 1500: loss 2.001159\n",
      "iteration 900 / 1500: loss 2.042844\n",
      "iteration 1000 / 1500: loss 2.013671\n",
      "iteration 1100 / 1500: loss 2.108793\n",
      "iteration 1200 / 1500: loss 1.997256\n",
      "iteration 1300 / 1500: loss 2.021650\n",
      "iteration 1400 / 1500: loss 2.053931\n",
      "That took 17.495000s\n"
     ]
    }
   ],
   "source": [
    "from cs231n.classifiers import Softmax\n",
    "smax = Softmax()\n",
    "tic = time.time()\n",
    "loss_hist = smax.train(X_train, y_train, learning_rate=5e-7, reg=2.5e4,\n",
    "                      num_iters=1500, verbose=True)\n",
    "toc = time.time()\n",
    "print('That took %fs' % (toc - tic))"
   ]
  },
  {
   "cell_type": "code",
   "execution_count": 58,
   "metadata": {
    "collapsed": false
   },
   "outputs": [
    {
     "data": {
      "image/png": "[encoded data removed]",
      "text/plain": [
       "<matplotlib.figure.Figure at 0x787b240>"
      ]
     },
     "metadata": {},
     "output_type": "display_data"
    }
   ],
   "source": [
    "# A useful debugging strategy is to plot the loss as a function of\n",
    "# iteration number:\n",
    "plt.plot(loss_hist)\n",
    "plt.xlabel('Iteration number')\n",
    "plt.ylabel('Loss value')\n",
    "plt.show()"
   ]
  },
  {
   "cell_type": "code",
   "execution_count": 59,
   "metadata": {
    "collapsed": false
   },
   "outputs": [
    {
     "name": "stdout",
     "output_type": "stream",
     "text": [
      "training accuracy: 0.346653\n",
      "validation accuracy: 0.356000\n"
     ]
    }
   ],
   "source": [
    "# Write the LinearSVM.predict function and evaluate the performance on both the\n",
    "# training and validation set\n",
    "y_train_pred = smax.predict(X_train)\n",
    "print('training accuracy: %f' % (np.mean(y_train == y_train_pred), ))\n",
    "y_val_pred = smax.predict(X_val)\n",
    "print('validation accuracy: %f' % (np.mean(y_val == y_val_pred), ))"
   ]
  },
  {
   "cell_type": "code",
   "execution_count": 54,
   "metadata": {
    "collapsed": false
   },
   "outputs": [
    {
     "name": "stdout",
     "output_type": "stream",
     "text": [
      "iteration 0 / 600: loss 392.093181\n",
      "iteration 100 / 600: loss 237.447196\n",
      "iteration 200 / 600: loss 144.396804\n",
      "iteration 300 / 600: loss 88.004906\n",
      "iteration 400 / 600: loss 54.065062\n",
      "iteration 500 / 600: loss 33.484261\n",
      "iteration 0 / 600: loss 779.185477\n",
      "iteration 100 / 600: loss 285.938832\n",
      "iteration 200 / 600: loss 105.934081\n",
      "iteration 300 / 600: loss 40.037144\n",
      "iteration 400 / 600: loss 15.961355\n",
      "iteration 500 / 600: loss 7.157936\n",
      "iteration 0 / 600: loss 5.706229\n",
      "iteration 100 / 600: loss 3.989751\n",
      "iteration 200 / 600: loss 3.317907\n",
      "iteration 300 / 600: loss 3.680860\n",
      "iteration 400 / 600: loss 3.209117\n",
      "iteration 500 / 600: loss 3.122873\n",
      "iteration 0 / 600: loss 392.119480\n",
      "iteration 100 / 600: loss 86.967791\n",
      "iteration 200 / 600: loss 20.843378\n",
      "iteration 300 / 600: loss 6.095735\n",
      "iteration 400 / 600: loss 2.913785\n",
      "iteration 500 / 600: loss 2.162364\n",
      "iteration 0 / 600: loss 772.298228\n",
      "iteration 100 / 600: loss 39.225004\n",
      "iteration 200 / 600: loss 3.863673\n",
      "iteration 300 / 600: loss 2.164248\n",
      "iteration 400 / 600: loss 2.085680\n",
      "iteration 500 / 600: loss 2.091675\n",
      "iteration 0 / 600: loss 6.500968\n",
      "iteration 100 / 600: loss 3.500368\n",
      "iteration 200 / 600: loss 3.004255\n",
      "iteration 300 / 600: loss 2.768547\n",
      "iteration 400 / 600: loss 2.502073\n",
      "iteration 500 / 600: loss 2.775344\n",
      "iteration 0 / 600: loss 387.720348\n",
      "iteration 100 / 600: loss 32.698684\n",
      "iteration 200 / 600: loss 4.514190\n",
      "iteration 300 / 600: loss 2.152201\n",
      "iteration 400 / 600: loss 2.073171\n",
      "iteration 500 / 600: loss 2.049823\n",
      "iteration 0 / 600: loss 777.756907\n",
      "iteration 100 / 600: loss 6.865637\n",
      "iteration 200 / 600: loss 2.130302\n",
      "iteration 300 / 600: loss 2.063042\n",
      "iteration 400 / 600: loss 2.076322\n",
      "iteration 500 / 600: loss 2.119168\n",
      "iteration 0 / 600: loss 4.840059\n",
      "iteration 100 / 600: loss 3.251536\n",
      "iteration 200 / 600: loss 2.978380\n",
      "iteration 300 / 600: loss 2.535997\n",
      "iteration 400 / 600: loss 2.480445\n",
      "iteration 500 / 600: loss 2.527335\n",
      "lr 1.000000e-07 reg 3.000000e+00 train accuracy: 0.206347 val accuracy: 0.210000\n",
      "lr 1.000000e-07 reg 2.500000e+04 train accuracy: 0.276776 val accuracy: 0.284000\n",
      "lr 1.000000e-07 reg 5.000000e+04 train accuracy: 0.324653 val accuracy: 0.341000\n",
      "lr 3.000000e-07 reg 3.000000e+00 train accuracy: 0.264020 val accuracy: 0.269000\n",
      "lr 3.000000e-07 reg 2.500000e+04 train accuracy: 0.346102 val accuracy: 0.348000\n",
      "lr 3.000000e-07 reg 5.000000e+04 train accuracy: 0.329000 val accuracy: 0.346000\n",
      "lr 5.000000e-07 reg 3.000000e+00 train accuracy: 0.275755 val accuracy: 0.264000\n",
      "lr 5.000000e-07 reg 2.500000e+04 train accuracy: 0.345837 val accuracy: 0.362000\n",
      "lr 5.000000e-07 reg 5.000000e+04 train accuracy: 0.326000 val accuracy: 0.330000\n",
      "best validation accuracy achieved during cross-validation: 0.362000\n"
     ]
    }
   ],
   "source": [
    "# Use the validation set to tune hyperparameters (regularization strength and\n",
    "# learning rate). You should experiment with different ranges for the learning\n",
    "# rates and regularization strengths; if you are careful you should be able to\n",
    "# get a classification accuracy of over 0.35 on the validation set.\n",
    "from cs231n.classifiers import Softmax\n",
    "results = {}\n",
    "best_val = -1\n",
    "best_softmax = None\n",
    "learning_rates = [1e-7, 5e-7]\n",
    "regularization_strengths = [2.5e4, 5e4]\n",
    "\n",
    "span = 3\n",
    "num_iterarions=600\n",
    "\n",
    "learning_rates = np.linspace(learning_rates[0],learning_rates[1],span)\n",
    "regularization_strengths = (regularization_strengths[0], regularization_strengths[1],span)\n",
    "\n",
    "# results is dictionary mapping tuples of the form\n",
    "# (learning_rate, regularization_strength) to tuples of the form\n",
    "# (training_accuracy, validation_accuracy). The accuracy is simply the fraction\n",
    "# of data points that are correctly classified.\n",
    "results = {}\n",
    "best_val = -1\n",
    "for learning_rate in learning_rates:\n",
    "    for regularization_strength in regularization_strengths:\n",
    "      smax = Softmax()\n",
    "      loss_hist = smax.train(X_train, y_train, learning_rate=learning_rate, reg=regularization_strength, num_iters=num_iterarions, verbose=True)\n",
    "      y_train_pred = smax.predict(X_train)\n",
    "      y_val_pred = smax.predict(X_val)\n",
    "      training_accuracy = np.mean(y_train == y_train_pred)\n",
    "      validation_accuracy = np.mean(y_val == y_val_pred)\n",
    "      results[(learning_rate, regularization_strength)] = (training_accuracy, validation_accuracy)\n",
    "      if validation_accuracy > best_val:\n",
    "        best_val = validation_accuracy   # The highest validation accuracy that we have seen so far.\n",
    "        best_smax = smax # The LinearSVM object that achieved the highest validation rate.\n",
    "\n",
    "################################################################################\n",
    "# TODO:                                                                        #\n",
    "# Use the validation set to set the learning rate and regularization strength. #\n",
    "# This should be identical to the validation that you did for the SVM; save    #\n",
    "# the best trained softmax classifer in best_softmax.                          #\n",
    "################################################################################\n",
    "pass\n",
    "################################################################################\n",
    "#                              END OF YOUR CODE                                #\n",
    "################################################################################\n",
    "    \n",
    "# Print out results.\n",
    "for lr, reg in sorted(results):\n",
    "    train_accuracy, val_accuracy = results[(lr, reg)]\n",
    "    print('lr %e reg %e train accuracy: %f val accuracy: %f' % (\n",
    "                lr, reg, train_accuracy, val_accuracy))\n",
    "    \n",
    "print('best validation accuracy achieved during cross-validation: %f' % best_val)"
   ]
  },
  {
   "cell_type": "code",
   "execution_count": 60,
   "metadata": {
    "collapsed": false
   },
   "outputs": [
    {
     "name": "stdout",
     "output_type": "stream",
     "text": [
      "softmax on raw pixels final test set accuracy: 0.363000\n"
     ]
    }
   ],
   "source": [
    "best_softmax = smax\n",
    "# evaluate on test set\n",
    "# Evaluate the best softmax on test set\n",
    "y_test_pred = best_softmax.predict(X_test)\n",
    "test_accuracy = np.mean(y_test == y_test_pred)\n",
    "print('softmax on raw pixels final test set accuracy: %f' % (test_accuracy, ))"
   ]
  },
  {
   "cell_type": "code",
   "execution_count": 61,
   "metadata": {
    "collapsed": false
   },
   "outputs": [
    {
     "data": {
      "image/png": "[encoded data removed]",
      "text/plain": [
       "<matplotlib.figure.Figure at 0xf6132e8>"
      ]
     },
     "metadata": {},
     "output_type": "display_data"
    }
   ],
   "source": [
    "# Visualize the learned weights for each class\n",
    "w = best_softmax.W[:-1,:] # strip out the bias\n",
    "w = w.reshape(32, 32, 3, 10)\n",
    "\n",
    "w_min, w_max = np.min(w), np.max(w)\n",
    "\n",
    "classes = ['plane', 'car', 'bird', 'cat', 'deer', 'dog', 'frog', 'horse', 'ship', 'truck']\n",
    "for i in range(10):\n",
    "    plt.subplot(2, 5, i + 1)\n",
    "    \n",
    "    # Rescale the weights to be between 0 and 255\n",
    "    wimg = 255.0 * (w[:, :, :, i].squeeze() - w_min) / (w_max - w_min)\n",
    "    plt.imshow(wimg.astype('uint8'))\n",
    "    plt.axis('off')\n",
    "    plt.title(classes[i])"
   ]
  }
 ],
 "metadata": {
  "kernelspec": {
   "display_name": "Python 2",
   "language": "python",
   "name": "python2"
  },
  "language_info": {
   "codemirror_mode": {
    "name": "ipython",
    "version": 2
   },
   "file_extension": ".py",
   "mimetype": "text/x-python",
   "name": "python",
   "nbconvert_exporter": "python",
   "pygments_lexer": "ipython2",
   "version": "2.7.13"
  },
  "toc": {
   "colors": {
    "hover_highlight": "#DAA520",
    "running_highlight": "#FF0000",
    "selected_highlight": "#FFD700"
   },
   "moveMenuLeft": true,
   "nav_menu": {
    "height": "66px",
    "width": "252px"
   },
   "navigate_menu": true,
   "number_sections": true,
   "sideBar": true,
   "threshold": 4,
   "toc_cell": true,
   "toc_section_display": "block",
   "toc_window_display": true
  }
 },
 "nbformat": 4,
 "nbformat_minor": 0
}
